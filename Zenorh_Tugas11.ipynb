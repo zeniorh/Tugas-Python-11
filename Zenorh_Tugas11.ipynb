{
  "nbformat": 4,
  "nbformat_minor": 0,
  "metadata": {
    "colab": {
      "name": "Untitled5.ipynb",
      "provenance": [],
      "collapsed_sections": [],
      "mount_file_id": "1lKbKCrxouwEPkaMhwWbYD0l1T02DlPgQ",
      "authorship_tag": "ABX9TyMKrb+w6Qe9a6jIkYwsT2xA",
      "include_colab_link": true
    },
    "kernelspec": {
      "name": "python3",
      "display_name": "Python 3"
    },
    "accelerator": "TPU"
  },
  "cells": [
    {
      "cell_type": "markdown",
      "metadata": {
        "id": "view-in-github",
        "colab_type": "text"
      },
      "source": [
        "<a href=\"https://colab.research.google.com/github/zeniorh/Tugas-Python-11/blob/main/Zenorh_Tugas11.ipynb\" target=\"_parent\"><img src=\"https://colab.research.google.com/assets/colab-badge.svg\" alt=\"Open In Colab\"/></a>"
      ]
    },
    {
      "cell_type": "code",
      "metadata": {
        "colab": {
          "base_uri": "https://localhost:8080/"
        },
        "id": "eHpQ4QuxOoIZ",
        "outputId": "2fae496b-e464-47b0-d4f2-43bad5efd521"
      },
      "source": [
        "from google.colab import drive\n",
        "drive.mount('/content/drive')"
      ],
      "execution_count": 1,
      "outputs": [
        {
          "output_type": "stream",
          "text": [
            "Drive already mounted at /content/drive; to attempt to forcibly remount, call drive.mount(\"/content/drive\", force_remount=True).\n"
          ],
          "name": "stdout"
        }
      ]
    },
    {
      "cell_type": "code",
      "metadata": {
        "colab": {
          "base_uri": "https://localhost:8080/"
        },
        "id": "QZKHIJLjO_5J",
        "outputId": "0a0da25e-9fce-4d64-d4eb-70c9944c170d"
      },
      "source": [
        "cd /content/drive/MyDrive/Dataset"
      ],
      "execution_count": 2,
      "outputs": [
        {
          "output_type": "stream",
          "text": [
            "/content/drive/MyDrive/Dataset\n"
          ],
          "name": "stdout"
        }
      ]
    },
    {
      "cell_type": "code",
      "metadata": {
        "colab": {
          "base_uri": "https://localhost:8080/"
        },
        "id": "llQI65r-PbVP",
        "outputId": "3b3a03d7-0807-4e9d-e0de-b101f9c5dd8d"
      },
      "source": [
        "ls"
      ],
      "execution_count": 3,
      "outputs": [
        {
          "output_type": "stream",
          "text": [
            "best_weight_scene_mobileNet.h5  \u001b[0m\u001b[01;34mnnmodel_scene\u001b[0m/  \u001b[01;34mTransportation\u001b[0m/\n"
          ],
          "name": "stdout"
        }
      ]
    },
    {
      "cell_type": "code",
      "metadata": {
        "id": "K8ZO5aS9PcXH"
      },
      "source": [
        "from keras.models import Sequential\n",
        "from keras.layers.convolutional import Conv2D\n",
        "from keras.layers.convolutional import MaxPooling2D\n",
        "from keras.layers.core import Activation\n",
        "from keras.layers.core import Flatten\n",
        "from keras.layers.core import Dense\n",
        "from keras.optimizers import Adam\n",
        "from sklearn.preprocessing import LabelBinarizer\n",
        "from sklearn.model_selection import train_test_split\n",
        "from sklearn.metrics import classification_report\n",
        "from PIL import Image\n",
        "from imutils import paths\n",
        "import numpy as np\n",
        "import os"
      ],
      "execution_count": 4,
      "outputs": []
    },
    {
      "cell_type": "code",
      "metadata": {
        "colab": {
          "base_uri": "https://localhost:8080/"
        },
        "id": "h9a4CrtqPgLp",
        "outputId": "39fc9bb9-9821-4a87-b21d-a9794b874c86"
      },
      "source": [
        "print(\"[INFO] loading images...\")\n",
        "imagePaths = paths.list_images(\"Transportation\")\n",
        "data = []\n",
        "labels = []"
      ],
      "execution_count": 5,
      "outputs": [
        {
          "output_type": "stream",
          "text": [
            "[INFO] loading images...\n"
          ],
          "name": "stdout"
        }
      ]
    },
    {
      "cell_type": "code",
      "metadata": {
        "id": "Od5N8XIIPou0"
      },
      "source": [
        "\tfor imagePath in imagePaths:\n",
        "\t# load the input image from disk, resize it to 64x64 pixels, scale\n",
        "\t# the pixel intensities to the range [0, 1], and then update our\n",
        "\t# images list\n",
        "\t  image = Image.open(imagePath)\n",
        "\t  image = np.array(image.resize((64, 64))) / 255.0\n",
        "\t  data.append(image)\n",
        "\n",
        "\t# extract the class label from the file path and update the\n",
        "\t# labels list\n",
        "\t  label = imagePath.split(os.path.sep)[-2]\n",
        "\t  labels.append(label)"
      ],
      "execution_count": 6,
      "outputs": []
    },
    {
      "cell_type": "code",
      "metadata": {
        "colab": {
          "base_uri": "https://localhost:8080/"
        },
        "id": "JVVnory-PqnM",
        "outputId": "9221ad60-6401-4e42-96d3-f928eeafad99"
      },
      "source": [
        "print(labels)"
      ],
      "execution_count": 7,
      "outputs": [
        {
          "output_type": "stream",
          "text": [
            "['motorcycle', 'motorcycle', 'motorcycle', 'motorcycle', 'motorcycle', 'motorcycle', 'motorcycle', 'motorcycle', 'motorcycle', 'motorcycle', 'boat', 'boat', 'boat', 'boat', 'boat', 'boat', 'boat', 'boat', 'boat', 'boat', 'cars', 'cars', 'cars', 'cars', 'cars', 'cars', 'cars', 'cars', 'cars', 'cars']\n"
          ],
          "name": "stdout"
        }
      ]
    },
    {
      "cell_type": "code",
      "metadata": {
        "id": "hty_R43bPr9J"
      },
      "source": [
        "lb = LabelBinarizer()\n",
        "labels = lb.fit_transform(labels)"
      ],
      "execution_count": 8,
      "outputs": []
    },
    {
      "cell_type": "code",
      "metadata": {
        "colab": {
          "base_uri": "https://localhost:8080/"
        },
        "id": "Go03taclPtlY",
        "outputId": "10802188-5352-4a74-e046-92eead75ede9"
      },
      "source": [
        "print(labels)"
      ],
      "execution_count": 9,
      "outputs": [
        {
          "output_type": "stream",
          "text": [
            "[[0 0 1]\n",
            " [0 0 1]\n",
            " [0 0 1]\n",
            " [0 0 1]\n",
            " [0 0 1]\n",
            " [0 0 1]\n",
            " [0 0 1]\n",
            " [0 0 1]\n",
            " [0 0 1]\n",
            " [0 0 1]\n",
            " [1 0 0]\n",
            " [1 0 0]\n",
            " [1 0 0]\n",
            " [1 0 0]\n",
            " [1 0 0]\n",
            " [1 0 0]\n",
            " [1 0 0]\n",
            " [1 0 0]\n",
            " [1 0 0]\n",
            " [1 0 0]\n",
            " [0 1 0]\n",
            " [0 1 0]\n",
            " [0 1 0]\n",
            " [0 1 0]\n",
            " [0 1 0]\n",
            " [0 1 0]\n",
            " [0 1 0]\n",
            " [0 1 0]\n",
            " [0 1 0]\n",
            " [0 1 0]]\n"
          ],
          "name": "stdout"
        }
      ]
    },
    {
      "cell_type": "code",
      "metadata": {
        "colab": {
          "base_uri": "https://localhost:8080/"
        },
        "id": "NzrN1R-3Pu4_",
        "outputId": "91905734-c301-46e2-b064-ef52e41fa91c"
      },
      "source": [
        "(trainX, testX, trainY, testY) = train_test_split(np.array(data),\tnp.array(labels), test_size=0.25,shuffle=True)\n",
        "print(trainX.shape)\n",
        "print(testX.shape)"
      ],
      "execution_count": 10,
      "outputs": [
        {
          "output_type": "stream",
          "text": [
            "(22, 64, 64, 3)\n",
            "(8, 64, 64, 3)\n"
          ],
          "name": "stdout"
        }
      ]
    },
    {
      "cell_type": "code",
      "metadata": {
        "colab": {
          "base_uri": "https://localhost:8080/"
        },
        "id": "Z2VnXY3hPwwL",
        "outputId": "c6e85f21-50b3-4d93-f24a-379a5d598f59"
      },
      "source": [
        "from keras.layers import Convolution2D, MaxPooling2D\n",
        "from keras.models import Sequential\n",
        "from keras.layers.core import Flatten, Dense\n",
        "\n",
        "model1 = Sequential()\n",
        "model1.add(Convolution2D(18, 3,3, activation='relu', input_shape=(64,64,3)))\n",
        "model1.add(MaxPooling2D(2,2))\n",
        "model1.add(Convolution2D(32, 3,3, activation='relu'))\n",
        "model1.add(MaxPooling2D(2,2))\n",
        "\n",
        "model1.add(Flatten())\n",
        "model1.add(Dense(100, activation='relu'))\n",
        "model1.add(Dense(3, activation='softmax'))\n",
        "\n",
        "model1.summary() "
      ],
      "execution_count": 11,
      "outputs": [
        {
          "output_type": "stream",
          "text": [
            "Model: \"sequential\"\n",
            "_________________________________________________________________\n",
            "Layer (type)                 Output Shape              Param #   \n",
            "=================================================================\n",
            "conv2d (Conv2D)              (None, 21, 21, 18)        504       \n",
            "_________________________________________________________________\n",
            "max_pooling2d (MaxPooling2D) (None, 10, 10, 18)        0         \n",
            "_________________________________________________________________\n",
            "conv2d_1 (Conv2D)            (None, 3, 3, 32)          5216      \n",
            "_________________________________________________________________\n",
            "max_pooling2d_1 (MaxPooling2 (None, 1, 1, 32)          0         \n",
            "_________________________________________________________________\n",
            "flatten (Flatten)            (None, 32)                0         \n",
            "_________________________________________________________________\n",
            "dense (Dense)                (None, 100)               3300      \n",
            "_________________________________________________________________\n",
            "dense_1 (Dense)              (None, 3)                 303       \n",
            "=================================================================\n",
            "Total params: 9,323\n",
            "Trainable params: 9,323\n",
            "Non-trainable params: 0\n",
            "_________________________________________________________________\n"
          ],
          "name": "stdout"
        }
      ]
    },
    {
      "cell_type": "code",
      "metadata": {
        "colab": {
          "base_uri": "https://localhost:8080/"
        },
        "id": "wDvncH1gPz1R",
        "outputId": "2666eba3-f6f5-4bbe-c80d-2cd0b3f7ac8b"
      },
      "source": [
        "print(\"[INFO] training network...\")\n",
        "opt = Adam(lr=1e-3, decay=1e-3 / 50)\n",
        "model1.compile(loss=\"categorical_crossentropy\", optimizer=opt,\n",
        "\tmetrics=[\"accuracy\"])\n",
        "H = model1.fit(trainX, trainY, validation_data=(testX, testY), epochs=30, batch_size=10)"
      ],
      "execution_count": 12,
      "outputs": [
        {
          "output_type": "stream",
          "text": [
            "[INFO] training network...\n",
            "Epoch 1/30\n",
            "3/3 [==============================] - 0s 59ms/step - loss: 1.1185 - accuracy: 0.3636 - val_loss: 1.1114 - val_accuracy: 0.2500\n",
            "Epoch 2/30\n",
            "3/3 [==============================] - 0s 8ms/step - loss: 1.0909 - accuracy: 0.3636 - val_loss: 1.1004 - val_accuracy: 0.2500\n",
            "Epoch 3/30\n",
            "3/3 [==============================] - 0s 9ms/step - loss: 1.0822 - accuracy: 0.5000 - val_loss: 1.0819 - val_accuracy: 0.5000\n",
            "Epoch 4/30\n",
            "3/3 [==============================] - 0s 12ms/step - loss: 1.0699 - accuracy: 0.5455 - val_loss: 1.0695 - val_accuracy: 0.5000\n",
            "Epoch 5/30\n",
            "3/3 [==============================] - 0s 8ms/step - loss: 1.0625 - accuracy: 0.4545 - val_loss: 1.0580 - val_accuracy: 0.3750\n",
            "Epoch 6/30\n",
            "3/3 [==============================] - 0s 9ms/step - loss: 1.0582 - accuracy: 0.4545 - val_loss: 1.0473 - val_accuracy: 0.3750\n",
            "Epoch 7/30\n",
            "3/3 [==============================] - 0s 9ms/step - loss: 1.0474 - accuracy: 0.4545 - val_loss: 1.0430 - val_accuracy: 0.5000\n",
            "Epoch 8/30\n",
            "3/3 [==============================] - 0s 10ms/step - loss: 1.0344 - accuracy: 0.4545 - val_loss: 1.0454 - val_accuracy: 0.5000\n",
            "Epoch 9/30\n",
            "3/3 [==============================] - 0s 9ms/step - loss: 1.0200 - accuracy: 0.5909 - val_loss: 1.0452 - val_accuracy: 0.5000\n",
            "Epoch 10/30\n",
            "3/3 [==============================] - 0s 9ms/step - loss: 1.0099 - accuracy: 0.5909 - val_loss: 1.0304 - val_accuracy: 1.0000\n",
            "Epoch 11/30\n",
            "3/3 [==============================] - 0s 10ms/step - loss: 0.9923 - accuracy: 0.8636 - val_loss: 1.0123 - val_accuracy: 0.6250\n",
            "Epoch 12/30\n",
            "3/3 [==============================] - 0s 8ms/step - loss: 0.9763 - accuracy: 0.6818 - val_loss: 0.9978 - val_accuracy: 0.6250\n",
            "Epoch 13/30\n",
            "3/3 [==============================] - 0s 10ms/step - loss: 0.9560 - accuracy: 0.5455 - val_loss: 0.9901 - val_accuracy: 0.5000\n",
            "Epoch 14/30\n",
            "3/3 [==============================] - 0s 9ms/step - loss: 0.9379 - accuracy: 0.5909 - val_loss: 1.0016 - val_accuracy: 0.5000\n",
            "Epoch 15/30\n",
            "3/3 [==============================] - 0s 9ms/step - loss: 0.9508 - accuracy: 0.6364 - val_loss: 1.0126 - val_accuracy: 0.2500\n",
            "Epoch 16/30\n",
            "3/3 [==============================] - 0s 9ms/step - loss: 0.9153 - accuracy: 0.5909 - val_loss: 0.9675 - val_accuracy: 0.5000\n",
            "Epoch 17/30\n",
            "3/3 [==============================] - 0s 10ms/step - loss: 0.8734 - accuracy: 0.6364 - val_loss: 0.9418 - val_accuracy: 0.6250\n",
            "Epoch 18/30\n",
            "3/3 [==============================] - 0s 9ms/step - loss: 0.8441 - accuracy: 0.6364 - val_loss: 0.9227 - val_accuracy: 0.6250\n",
            "Epoch 19/30\n",
            "3/3 [==============================] - 0s 9ms/step - loss: 0.8201 - accuracy: 0.9091 - val_loss: 0.9132 - val_accuracy: 0.8750\n",
            "Epoch 20/30\n",
            "3/3 [==============================] - 0s 11ms/step - loss: 0.7994 - accuracy: 0.7727 - val_loss: 0.9030 - val_accuracy: 0.6250\n",
            "Epoch 21/30\n",
            "3/3 [==============================] - 0s 8ms/step - loss: 0.7762 - accuracy: 0.7273 - val_loss: 0.8716 - val_accuracy: 0.6250\n",
            "Epoch 22/30\n",
            "3/3 [==============================] - 0s 9ms/step - loss: 0.7321 - accuracy: 0.6818 - val_loss: 0.8644 - val_accuracy: 0.6250\n",
            "Epoch 23/30\n",
            "3/3 [==============================] - 0s 10ms/step - loss: 0.7186 - accuracy: 0.7727 - val_loss: 0.8347 - val_accuracy: 0.7500\n",
            "Epoch 24/30\n",
            "3/3 [==============================] - 0s 8ms/step - loss: 0.6808 - accuracy: 0.9545 - val_loss: 0.7936 - val_accuracy: 0.8750\n",
            "Epoch 25/30\n",
            "3/3 [==============================] - 0s 8ms/step - loss: 0.6565 - accuracy: 0.9545 - val_loss: 0.7921 - val_accuracy: 0.8750\n",
            "Epoch 26/30\n",
            "3/3 [==============================] - 0s 8ms/step - loss: 0.6442 - accuracy: 0.8182 - val_loss: 0.7317 - val_accuracy: 1.0000\n",
            "Epoch 27/30\n",
            "3/3 [==============================] - 0s 8ms/step - loss: 0.5736 - accuracy: 0.9545 - val_loss: 0.7128 - val_accuracy: 0.8750\n",
            "Epoch 28/30\n",
            "3/3 [==============================] - 0s 8ms/step - loss: 0.5892 - accuracy: 0.8636 - val_loss: 0.6873 - val_accuracy: 0.8750\n",
            "Epoch 29/30\n",
            "3/3 [==============================] - 0s 8ms/step - loss: 0.5496 - accuracy: 0.9545 - val_loss: 0.6853 - val_accuracy: 1.0000\n",
            "Epoch 30/30\n",
            "3/3 [==============================] - 0s 8ms/step - loss: 0.5204 - accuracy: 0.9091 - val_loss: 0.6580 - val_accuracy: 1.0000\n"
          ],
          "name": "stdout"
        }
      ]
    },
    {
      "cell_type": "code",
      "metadata": {
        "colab": {
          "base_uri": "https://localhost:8080/",
          "height": 590
        },
        "id": "kBcnGwDtP2Zd",
        "outputId": "e5fea1af-fe98-4bba-de50-cc3fcb6a4188"
      },
      "source": [
        "import matplotlib.pyplot as plt\n",
        "print(H.history.keys())\n",
        "# summarize history for accuracy\n",
        "plt.plot(H.history['accuracy'])\n",
        "plt.plot(H.history['val_accuracy'])\n",
        "plt.title('model accuracy')\n",
        "plt.ylabel('accuracy')\n",
        "plt.xlabel('epoch')\n",
        "plt.legend(['train', 'test'], loc='upper left')\n",
        "plt.show()\n",
        "# summarize history for loss\n",
        "plt.plot(H.history['loss'])\n",
        "plt.plot(H.history['val_loss'])\n",
        "plt.title('model loss')\n",
        "plt.ylabel('loss')\n",
        "plt.xlabel('epoch')\n",
        "plt.legend(['train', 'test'], loc='upper left')\n",
        "plt.show()"
      ],
      "execution_count": 13,
      "outputs": [
        {
          "output_type": "stream",
          "text": [
            "dict_keys(['loss', 'accuracy', 'val_loss', 'val_accuracy'])\n"
          ],
          "name": "stdout"
        },
        {
          "output_type": "display_data",
          "data": {
            "image/png": "[encoded data removed]",
            "text/plain": [
              "<Figure size 432x288 with 1 Axes>"
            ]
          },
          "metadata": {
            "tags": [],
            "needs_background": "light"
          }
        },
        {
          "output_type": "display_data",
          "data": {
            "image/png": "[encoded data removed]",
            "text/plain": [
              "<Figure size 432x288 with 1 Axes>"
            ]
          },
          "metadata": {
            "tags": [],
            "needs_background": "light"
          }
        }
      ]
    },
    {
      "cell_type": "code",
      "metadata": {
        "colab": {
          "base_uri": "https://localhost:8080/"
        },
        "id": "1v--NNZBP4OK",
        "outputId": "75f225aa-4634-428b-b020-ca03edb6ad5f"
      },
      "source": [
        "print(\"[INFO] evaluating network...\")\n",
        "predictions = model1.predict(testX, batch_size=10)\n",
        "print(classification_report(testY.argmax(axis=1),\n",
        "\tpredictions.argmax(axis=1), target_names=lb.classes_))"
      ],
      "execution_count": 14,
      "outputs": [
        {
          "output_type": "stream",
          "text": [
            "[INFO] evaluating network...\n",
            "              precision    recall  f1-score   support\n",
            "\n",
            "        boat       1.00      1.00      1.00         3\n",
            "        cars       1.00      1.00      1.00         3\n",
            "  motorcycle       1.00      1.00      1.00         2\n",
            "\n",
            "    accuracy                           1.00         8\n",
            "   macro avg       1.00      1.00      1.00         8\n",
            "weighted avg       1.00      1.00      1.00         8\n",
            "\n"
          ],
          "name": "stdout"
        }
      ]
    }
  ]
}